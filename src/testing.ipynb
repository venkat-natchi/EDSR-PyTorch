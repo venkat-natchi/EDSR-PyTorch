{
 "cells": [
  {
   "cell_type": "code",
   "execution_count": 92,
   "metadata": {},
   "outputs": [],
   "source": [
    "import torch\n",
    "\n",
    "import utility\n",
    "import data\n",
    "import model\n",
    "import loss\n",
    "from trainer import Trainer"
   ]
  },
  {
   "cell_type": "code",
   "execution_count": 93,
   "metadata": {},
   "outputs": [],
   "source": [
    "default_arg = {\n",
    "    'debug': True,\n",
    "    'template': '.',\n",
    "    'n_threads': 6,\n",
    "    'cpu': True,\n",
    "    'n_GPUs': 1,\n",
    "    'seed': 1,\n",
    "    'dir_data': '../../../dataset',\n",
    "    'dir_demo': '../test',\n",
    "    'data_train': 'DIV2K',\n",
    "    'data_test': 'DIV2K',\n",
    "    'data_range': '1-800/801-810',\n",
    "    'ext': 'sep',\n",
    "    'scale': 4,\n",
    "    'patch_size': 192,\n",
    "    'rgb_range': 255,\n",
    "    'n_colors': 3,\n",
    "    'chop': True,\n",
    "    'no_augment': True,\n",
    "    'model': 'EDSR',\n",
    "    'act': 'relu',\n",
    "    'pre_train': '',\n",
    "    'extend': '.',\n",
    "    'n_resblocks': 16,\n",
    "    'n_feats': 64,\n",
    "    'res_scale': 1,\n",
    "    'shift_mean': True,\n",
    "    'dilation': True,\n",
    "    'precision': 'single',\n",
    "    'G0': 64,\n",
    "    'RDNkSize': 3,\n",
    "    'RDNconfig': 'B',\n",
    "    'n_resgroups': 10,\n",
    "    'reduction': 16,\n",
    "    'reset': True,\n",
    "    'test_every': 1000,\n",
    "    'epochs': 300,\n",
    "    'batch_size': 16,\n",
    "    'split_batch': 1,\n",
    "    'self_ensemble': True,\n",
    "    'test_only': True,\n",
    "    'gan_k': 1,\n",
    "    'lr': 1e-4,\n",
    "    'decay': '200',\n",
    "    'gamma': 0.5,\n",
    "    'optimizer': 'ADAM',\n",
    "    'momentum': 0.9,\n",
    "    'betas': (0.9, 0.999),\n",
    "    'epsilon': 1e-8,\n",
    "    'weight_decay': 0,\n",
    "    'gclip': 0,\n",
    "    'loss': \"1*L1\",\n",
    "    'skip_threshold': 1e8,\n",
    "    'save': 'test',\n",
    "    'load': '',\n",
    "    'resume': 0,\n",
    "    'save_models': True,\n",
    "    'print_every': 100,\n",
    "    'save_results': True,\n",
    "    'save_gt': True\n",
    "}"
   ]
  },
  {
   "cell_type": "code",
   "execution_count": 113,
   "metadata": {},
   "outputs": [],
   "source": [
    "args = default_arg | {\n",
    "    'data_test': ['Demo'],\n",
    "    'scale': [2],\n",
    "    'pre_train': 'download',\n",
    "    'save_results': False,\n",
    "    'self_ensemble': False,\n",
    "    'chop': False\n",
    "}"
   ]
  },
  {
   "cell_type": "code",
   "execution_count": 115,
   "metadata": {},
   "outputs": [],
   "source": [
    "from sklearn.utils import Bunch\n",
    "\n",
    "args = Bunch(**args)"
   ]
  },
  {
   "cell_type": "code",
   "execution_count": 116,
   "metadata": {},
   "outputs": [],
   "source": [
    "\n",
    "torch.manual_seed(args.seed)\n",
    "checkpoint = utility.checkpoint(args)"
   ]
  },
  {
   "cell_type": "code",
   "execution_count": 117,
   "metadata": {},
   "outputs": [
    {
     "name": "stdout",
     "output_type": "stream",
     "text": [
      "Making model...\n",
      "Download the model\n",
      "\n",
      "Evaluation:\n"
     ]
    },
    {
     "name": "stderr",
     "output_type": "stream",
     "text": [
      "  0%|                                                     | 0/2 [00:11<?, ?it/s]\n"
     ]
    },
    {
     "ename": "RuntimeError",
     "evalue": "Given groups=1, weight of size [3, 3, 1, 1], expected input[1, 4, 504, 672] to have 3 channels, but got 4 channels instead",
     "output_type": "error",
     "traceback": [
      "\u001b[0;31m---------------------------------------------------------------------------\u001b[0m",
      "\u001b[0;31mRuntimeError\u001b[0m                              Traceback (most recent call last)",
      "Cell \u001b[0;32mIn [117], line 5\u001b[0m\n\u001b[1;32m      3\u001b[0m _loss \u001b[38;5;241m=\u001b[39m loss\u001b[38;5;241m.\u001b[39mLoss(args, checkpoint) \u001b[38;5;28;01mif\u001b[39;00m \u001b[38;5;129;01mnot\u001b[39;00m args\u001b[38;5;241m.\u001b[39mtest_only \u001b[38;5;28;01melse\u001b[39;00m \u001b[38;5;28;01mNone\u001b[39;00m\n\u001b[1;32m      4\u001b[0m t \u001b[38;5;241m=\u001b[39m Trainer(args, loader, _model, _loss, checkpoint)\n\u001b[0;32m----> 5\u001b[0m \u001b[38;5;28;01mwhile\u001b[39;00m \u001b[38;5;129;01mnot\u001b[39;00m \u001b[43mt\u001b[49m\u001b[38;5;241;43m.\u001b[39;49m\u001b[43mterminate\u001b[49m\u001b[43m(\u001b[49m\u001b[43m)\u001b[49m:\n\u001b[1;32m      6\u001b[0m     t\u001b[38;5;241m.\u001b[39mtrain()\n\u001b[1;32m      7\u001b[0m     t\u001b[38;5;241m.\u001b[39mtest()\n",
      "File \u001b[0;32m~/Documents/EDSR-PyTorch/src/trainer.py:141\u001b[0m, in \u001b[0;36mTrainer.terminate\u001b[0;34m(self)\u001b[0m\n\u001b[1;32m    139\u001b[0m \u001b[39mdef\u001b[39;00m \u001b[39mterminate\u001b[39m(\u001b[39mself\u001b[39m):\n\u001b[1;32m    140\u001b[0m     \u001b[39mif\u001b[39;00m \u001b[39mself\u001b[39m\u001b[39m.\u001b[39margs\u001b[39m.\u001b[39mtest_only:\n\u001b[0;32m--> 141\u001b[0m         \u001b[39mself\u001b[39;49m\u001b[39m.\u001b[39;49mtest()\n\u001b[1;32m    142\u001b[0m         \u001b[39mreturn\u001b[39;00m \u001b[39mTrue\u001b[39;00m\n\u001b[1;32m    143\u001b[0m     \u001b[39melse\u001b[39;00m:\n",
      "File \u001b[0;32m~/Documents/EDSR-PyTorch/src/trainer.py:91\u001b[0m, in \u001b[0;36mTrainer.test\u001b[0;34m(self)\u001b[0m\n\u001b[1;32m     89\u001b[0m \u001b[39mfor\u001b[39;00m lr, hr, filename \u001b[39min\u001b[39;00m tqdm(d, ncols\u001b[39m=\u001b[39m\u001b[39m80\u001b[39m):\n\u001b[1;32m     90\u001b[0m     lr, hr \u001b[39m=\u001b[39m \u001b[39mself\u001b[39m\u001b[39m.\u001b[39mprepare(lr, hr)\n\u001b[0;32m---> 91\u001b[0m     sr \u001b[39m=\u001b[39m \u001b[39mself\u001b[39;49m\u001b[39m.\u001b[39;49mmodel(lr, idx_scale)\n\u001b[1;32m     92\u001b[0m     sr \u001b[39m=\u001b[39m utility\u001b[39m.\u001b[39mquantize(sr, \u001b[39mself\u001b[39m\u001b[39m.\u001b[39margs\u001b[39m.\u001b[39mrgb_range)\n\u001b[1;32m     94\u001b[0m     save_list \u001b[39m=\u001b[39m [sr]\n",
      "File \u001b[0;32m/opt/homebrew/Caskroom/miniforge/base/envs/transformers/lib/python3.10/site-packages/torch/nn/modules/module.py:1130\u001b[0m, in \u001b[0;36mModule._call_impl\u001b[0;34m(self, *input, **kwargs)\u001b[0m\n\u001b[1;32m   1126\u001b[0m \u001b[39m# If we don't have any hooks, we want to skip the rest of the logic in\u001b[39;00m\n\u001b[1;32m   1127\u001b[0m \u001b[39m# this function, and just call forward.\u001b[39;00m\n\u001b[1;32m   1128\u001b[0m \u001b[39mif\u001b[39;00m \u001b[39mnot\u001b[39;00m (\u001b[39mself\u001b[39m\u001b[39m.\u001b[39m_backward_hooks \u001b[39mor\u001b[39;00m \u001b[39mself\u001b[39m\u001b[39m.\u001b[39m_forward_hooks \u001b[39mor\u001b[39;00m \u001b[39mself\u001b[39m\u001b[39m.\u001b[39m_forward_pre_hooks \u001b[39mor\u001b[39;00m _global_backward_hooks\n\u001b[1;32m   1129\u001b[0m         \u001b[39mor\u001b[39;00m _global_forward_hooks \u001b[39mor\u001b[39;00m _global_forward_pre_hooks):\n\u001b[0;32m-> 1130\u001b[0m     \u001b[39mreturn\u001b[39;00m forward_call(\u001b[39m*\u001b[39;49m\u001b[39minput\u001b[39;49m, \u001b[39m*\u001b[39;49m\u001b[39m*\u001b[39;49mkwargs)\n\u001b[1;32m   1131\u001b[0m \u001b[39m# Do not call functions when jit is used\u001b[39;00m\n\u001b[1;32m   1132\u001b[0m full_backward_hooks, non_full_backward_hooks \u001b[39m=\u001b[39m [], []\n",
      "File \u001b[0;32m~/Documents/EDSR-PyTorch/src/model/__init__.py:57\u001b[0m, in \u001b[0;36mModel.forward\u001b[0;34m(self, x, idx_scale)\u001b[0m\n\u001b[1;32m     55\u001b[0m     \u001b[39mreturn\u001b[39;00m \u001b[39mself\u001b[39m\u001b[39m.\u001b[39mforward_x8(x, forward_function\u001b[39m=\u001b[39mforward_function)\n\u001b[1;32m     56\u001b[0m \u001b[39melse\u001b[39;00m:\n\u001b[0;32m---> 57\u001b[0m     \u001b[39mreturn\u001b[39;00m forward_function(x)\n",
      "File \u001b[0;32m~/Documents/EDSR-PyTorch/src/model/edsr.py:56\u001b[0m, in \u001b[0;36mEDSR.forward\u001b[0;34m(self, x)\u001b[0m\n\u001b[1;32m     55\u001b[0m \u001b[39mdef\u001b[39;00m \u001b[39mforward\u001b[39m(\u001b[39mself\u001b[39m, x):\n\u001b[0;32m---> 56\u001b[0m     x \u001b[39m=\u001b[39m \u001b[39mself\u001b[39;49m\u001b[39m.\u001b[39;49msub_mean(x)\n\u001b[1;32m     57\u001b[0m     x \u001b[39m=\u001b[39m \u001b[39mself\u001b[39m\u001b[39m.\u001b[39mhead(x)\n\u001b[1;32m     59\u001b[0m     res \u001b[39m=\u001b[39m \u001b[39mself\u001b[39m\u001b[39m.\u001b[39mbody(x)\n",
      "File \u001b[0;32m/opt/homebrew/Caskroom/miniforge/base/envs/transformers/lib/python3.10/site-packages/torch/nn/modules/module.py:1130\u001b[0m, in \u001b[0;36mModule._call_impl\u001b[0;34m(self, *input, **kwargs)\u001b[0m\n\u001b[1;32m   1126\u001b[0m \u001b[39m# If we don't have any hooks, we want to skip the rest of the logic in\u001b[39;00m\n\u001b[1;32m   1127\u001b[0m \u001b[39m# this function, and just call forward.\u001b[39;00m\n\u001b[1;32m   1128\u001b[0m \u001b[39mif\u001b[39;00m \u001b[39mnot\u001b[39;00m (\u001b[39mself\u001b[39m\u001b[39m.\u001b[39m_backward_hooks \u001b[39mor\u001b[39;00m \u001b[39mself\u001b[39m\u001b[39m.\u001b[39m_forward_hooks \u001b[39mor\u001b[39;00m \u001b[39mself\u001b[39m\u001b[39m.\u001b[39m_forward_pre_hooks \u001b[39mor\u001b[39;00m _global_backward_hooks\n\u001b[1;32m   1129\u001b[0m         \u001b[39mor\u001b[39;00m _global_forward_hooks \u001b[39mor\u001b[39;00m _global_forward_pre_hooks):\n\u001b[0;32m-> 1130\u001b[0m     \u001b[39mreturn\u001b[39;00m forward_call(\u001b[39m*\u001b[39;49m\u001b[39minput\u001b[39;49m, \u001b[39m*\u001b[39;49m\u001b[39m*\u001b[39;49mkwargs)\n\u001b[1;32m   1131\u001b[0m \u001b[39m# Do not call functions when jit is used\u001b[39;00m\n\u001b[1;32m   1132\u001b[0m full_backward_hooks, non_full_backward_hooks \u001b[39m=\u001b[39m [], []\n",
      "File \u001b[0;32m/opt/homebrew/Caskroom/miniforge/base/envs/transformers/lib/python3.10/site-packages/torch/nn/modules/conv.py:457\u001b[0m, in \u001b[0;36mConv2d.forward\u001b[0;34m(self, input)\u001b[0m\n\u001b[1;32m    456\u001b[0m \u001b[39mdef\u001b[39;00m \u001b[39mforward\u001b[39m(\u001b[39mself\u001b[39m, \u001b[39minput\u001b[39m: Tensor) \u001b[39m-\u001b[39m\u001b[39m>\u001b[39m Tensor:\n\u001b[0;32m--> 457\u001b[0m     \u001b[39mreturn\u001b[39;00m \u001b[39mself\u001b[39;49m\u001b[39m.\u001b[39;49m_conv_forward(\u001b[39minput\u001b[39;49m, \u001b[39mself\u001b[39;49m\u001b[39m.\u001b[39;49mweight, \u001b[39mself\u001b[39;49m\u001b[39m.\u001b[39;49mbias)\n",
      "File \u001b[0;32m/opt/homebrew/Caskroom/miniforge/base/envs/transformers/lib/python3.10/site-packages/torch/nn/modules/conv.py:453\u001b[0m, in \u001b[0;36mConv2d._conv_forward\u001b[0;34m(self, input, weight, bias)\u001b[0m\n\u001b[1;32m    449\u001b[0m \u001b[39mif\u001b[39;00m \u001b[39mself\u001b[39m\u001b[39m.\u001b[39mpadding_mode \u001b[39m!=\u001b[39m \u001b[39m'\u001b[39m\u001b[39mzeros\u001b[39m\u001b[39m'\u001b[39m:\n\u001b[1;32m    450\u001b[0m     \u001b[39mreturn\u001b[39;00m F\u001b[39m.\u001b[39mconv2d(F\u001b[39m.\u001b[39mpad(\u001b[39minput\u001b[39m, \u001b[39mself\u001b[39m\u001b[39m.\u001b[39m_reversed_padding_repeated_twice, mode\u001b[39m=\u001b[39m\u001b[39mself\u001b[39m\u001b[39m.\u001b[39mpadding_mode),\n\u001b[1;32m    451\u001b[0m                     weight, bias, \u001b[39mself\u001b[39m\u001b[39m.\u001b[39mstride,\n\u001b[1;32m    452\u001b[0m                     _pair(\u001b[39m0\u001b[39m), \u001b[39mself\u001b[39m\u001b[39m.\u001b[39mdilation, \u001b[39mself\u001b[39m\u001b[39m.\u001b[39mgroups)\n\u001b[0;32m--> 453\u001b[0m \u001b[39mreturn\u001b[39;00m F\u001b[39m.\u001b[39;49mconv2d(\u001b[39minput\u001b[39;49m, weight, bias, \u001b[39mself\u001b[39;49m\u001b[39m.\u001b[39;49mstride,\n\u001b[1;32m    454\u001b[0m                 \u001b[39mself\u001b[39;49m\u001b[39m.\u001b[39;49mpadding, \u001b[39mself\u001b[39;49m\u001b[39m.\u001b[39;49mdilation, \u001b[39mself\u001b[39;49m\u001b[39m.\u001b[39;49mgroups)\n",
      "\u001b[0;31mRuntimeError\u001b[0m: Given groups=1, weight of size [3, 3, 1, 1], expected input[1, 4, 504, 672] to have 3 channels, but got 4 channels instead"
     ]
    }
   ],
   "source": [
    "\n",
    "loader = data.Data(args)\n",
    "_model = model.Model(args, checkpoint)\n",
    "_loss = loss.Loss(args, checkpoint) if not args.test_only else None\n",
    "t = Trainer(args, loader, _model, _loss, checkpoint)\n",
    "while not t.terminate():\n",
    "    t.train()\n",
    "    t.test()"
   ]
  },
  {
   "cell_type": "code",
   "execution_count": 75,
   "metadata": {},
   "outputs": [
    {
     "name": "stderr",
     "output_type": "stream",
     "text": [
      "8796.14s - pydevd: Sending message related to process being replaced timed-out after 5 seconds\n"
     ]
    },
    {
     "name": "stdout",
     "output_type": "stream",
     "text": [
      "Making model...\n",
      "Download the model\n",
      "\n",
      "Evaluation:\n",
      "  0%|                                                     | 0/2 [00:10<?, ?it/s]\n",
      "Traceback (most recent call last):\n",
      "  File \"/Users/venkat/Documents/EDSR-PyTorch/src/main.py\", line 33, in <module>\n",
      "    main()\n",
      "  File \"/Users/venkat/Documents/EDSR-PyTorch/src/main.py\", line 26, in main\n",
      "    while not t.terminate():\n",
      "  File \"/Users/venkat/Documents/EDSR-PyTorch/src/trainer.py\", line 141, in terminate\n",
      "    self.test()\n",
      "  File \"/Users/venkat/Documents/EDSR-PyTorch/src/trainer.py\", line 91, in test\n",
      "    sr = self.model(lr, idx_scale)\n",
      "  File \"/opt/homebrew/Caskroom/miniforge/base/envs/transformers/lib/python3.10/site-packages/torch/nn/modules/module.py\", line 1130, in _call_impl\n",
      "    return forward_call(*input, **kwargs)\n",
      "  File \"/Users/venkat/Documents/EDSR-PyTorch/src/model/__init__.py\", line 57, in forward\n",
      "    return forward_function(x)\n",
      "  File \"/Users/venkat/Documents/EDSR-PyTorch/src/model/edsr.py\", line 56, in forward\n",
      "    x = self.sub_mean(x)\n",
      "  File \"/opt/homebrew/Caskroom/miniforge/base/envs/transformers/lib/python3.10/site-packages/torch/nn/modules/module.py\", line 1130, in _call_impl\n",
      "    return forward_call(*input, **kwargs)\n",
      "  File \"/opt/homebrew/Caskroom/miniforge/base/envs/transformers/lib/python3.10/site-packages/torch/nn/modules/conv.py\", line 457, in forward\n",
      "    return self._conv_forward(input, self.weight, self.bias)\n",
      "  File \"/opt/homebrew/Caskroom/miniforge/base/envs/transformers/lib/python3.10/site-packages/torch/nn/modules/conv.py\", line 453, in _conv_forward\n",
      "    return F.conv2d(input, weight, bias, self.stride,\n",
      "RuntimeError: Given groups=1, weight of size [3, 3, 1, 1], expected input[1, 4, 504, 672] to have 3 channels, but got 4 channels instead\n"
     ]
    }
   ],
   "source": [
    "!python main.py --data_test Demo --scale 2 --pre_train download --test_only --cpu --debug"
   ]
  },
  {
   "cell_type": "code",
   "execution_count": null,
   "metadata": {},
   "outputs": [],
   "source": []
  }
 ],
 "metadata": {
  "kernelspec": {
   "display_name": "Python 3.10.6 ('transformers')",
   "language": "python",
   "name": "python3"
  },
  "language_info": {
   "codemirror_mode": {
    "name": "ipython",
    "version": 3
   },
   "file_extension": ".py",
   "mimetype": "text/x-python",
   "name": "python",
   "nbconvert_exporter": "python",
   "pygments_lexer": "ipython3",
   "version": "3.10.6"
  },
  "orig_nbformat": 4,
  "vscode": {
   "interpreter": {
    "hash": "02e373710fe8ee5e4fefe94e05d12897bb1dce14bb31cd26162c8283164a7cc7"
   }
  }
 },
 "nbformat": 4,
 "nbformat_minor": 2
}
